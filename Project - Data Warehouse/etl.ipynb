{
 "cells": [
  {
   "cell_type": "markdown",
   "metadata": {
    "editable": true
   },
   "source": [
    "# ETL Processes"
   ]
  },
  {
   "cell_type": "markdown",
   "metadata": {
    "editable": true
   },
   "source": [
    "### Running create_cluster.py will:\n",
    "##### 1. Create the IAM role\n",
    "##### 2. Attach read only policy to it\n",
    "##### 3. Create Cluster\n",
    "##### 4. Test Connection"
   ]
  },
  {
   "cell_type": "code",
   "execution_count": 3,
   "metadata": {
    "editable": true
   },
   "outputs": [
    {
     "name": "stdout",
     "output_type": "stream",
     "text": [
      "Creating a new IAM Role\n",
      "An error occurred (EntityAlreadyExists) when calling the CreateRole operation: Role with name dwhRole already exists.\n",
      "Attach Read Only Access Policy to Role\n",
      "Cluster Created\n",
      "Waiting for cluster to be available\n",
      "Waiting for cluster to be available\n",
      "Waiting for cluster to be available\n",
      "Waiting for cluster to be available\n",
      "Waiting for cluster to be available\n",
      "Waiting for cluster to be available\n",
      "Waiting for cluster to be available\n",
      "Cluster Available\n",
      "An error occurred (InvalidPermission.Duplicate) when calling the AuthorizeSecurityGroupIngress operation: the specified rule \"peer: 0.0.0.0/0, TCP, from port: 5439, to port: 5439, ALLOW\" already exists\n",
      "Connected\n"
     ]
    }
   ],
   "source": [
    "%run -i 'create_cluster.py'"
   ]
  },
  {
   "cell_type": "markdown",
   "metadata": {
    "editable": true
   },
   "source": [
    "### With create_tables.py we drop each table before creating it.\n",
    "\n",
    "##### We create Staging, Facts and dimesion tables. \n"
   ]
  },
  {
   "cell_type": "code",
   "execution_count": 4,
   "metadata": {
    "editable": true
   },
   "outputs": [
    {
     "name": "stdout",
     "output_type": "stream",
     "text": [
      "Drop Tables if they exists\n",
      "Droping table: staging_events\n",
      "Droping table: staging_songs\n",
      "Droping table: songplays\n",
      "Droping table: user\n",
      "Droping table: song\n",
      "Droping table: artist\n",
      "Droping table: time\n",
      "Create Tables\n",
      "Creating table: staging_events\n",
      "Creating table: staging_songs\n",
      "Creating table: user\n",
      "Creating table: song\n",
      "Creating table: artist\n",
      "Creating table: time\n",
      "Creating table: songplays\n"
     ]
    }
   ],
   "source": [
    "%run -i 'create_tables.py'"
   ]
  },
  {
   "cell_type": "markdown",
   "metadata": {
    "editable": true
   },
   "source": [
    "### We run etl.py to:\n",
    "##### 1. Load all the data to staging tables\n",
    "##### 2. Insert from staging tables the data to dimension and facts tables"
   ]
  },
  {
   "cell_type": "code",
   "execution_count": 5,
   "metadata": {
    "editable": true
   },
   "outputs": [
    {
     "name": "stdout",
     "output_type": "stream",
     "text": [
      "Copy data to staging tables\n",
      "Copying to table: staging_events\n",
      "Copying to table: staging_songs\n",
      "Inserting into Facts and Dimension tables\n",
      "Inserting to table: user\n",
      "Inserting to table: song\n",
      "Inserting to table: artist\n",
      "Inserting to table: time\n",
      "Inserting to table: songplays\n"
     ]
    }
   ],
   "source": [
    "%run -i 'etl.py'"
   ]
  },
  {
   "cell_type": "markdown",
   "metadata": {
    "editable": true
   },
   "source": [
    "### With analytics.py we count for the facts and dimesion table the number of records"
   ]
  },
  {
   "cell_type": "code",
   "execution_count": 6,
   "metadata": {
    "editable": true
   },
   "outputs": [
    {
     "name": "stdout",
     "output_type": "stream",
     "text": [
      "Running \n",
      "    SELECT COUNT(*) FROM staging_events\n",
      "\n",
      "    8056\n",
      "Running \n",
      "    SELECT COUNT(*) FROM staging_songs\n",
      "\n",
      "    14896\n",
      "Running \n",
      "    SELECT COUNT(*) FROM songplays\n",
      "\n",
      "    333\n",
      "Running \n",
      "    SELECT COUNT(*) FROM users\n",
      "\n",
      "    104\n",
      "Running \n",
      "    SELECT COUNT(*) FROM songs\n",
      "\n",
      "    14896\n",
      "Running \n",
      "    SELECT COUNT(*) FROM artists\n",
      "\n",
      "    10025\n",
      "Running \n",
      "    SELECT COUNT(*) FROM time\n",
      "\n",
      "    6813\n"
     ]
    }
   ],
   "source": [
    "%run -i 'analytics.py'"
   ]
  },
  {
   "cell_type": "code",
   "execution_count": null,
   "metadata": {
    "editable": true
   },
   "outputs": [],
   "source": []
  }
 ],
 "metadata": {
  "kernelspec": {
   "display_name": "Python 3",
   "language": "python",
   "name": "python3"
  },
  "language_info": {
   "codemirror_mode": {
    "name": "ipython",
    "version": 3
   },
   "file_extension": ".py",
   "mimetype": "text/x-python",
   "name": "python",
   "nbconvert_exporter": "python",
   "pygments_lexer": "ipython3",
   "version": "3.6.3"
  }
 },
 "nbformat": 4,
 "nbformat_minor": 4
}
